{
 "cells": [
  {
   "cell_type": "code",
   "execution_count": 45,
   "metadata": {},
   "outputs": [],
   "source": [
    "using PropBiology"
   ]
  },
  {
   "cell_type": "code",
   "execution_count": 46,
   "metadata": {},
   "outputs": [
    {
     "data": {
      "text/plain": [
       "0.0"
      ]
     },
     "metadata": {},
     "output_type": "display_data"
    }
   ],
   "source": [
    "Rs = [\n",
    "    0.0,\n",
    "    0.6,\n",
    "    1.2,\n",
    "    1.8,\n",
    "    2.4,\n",
    "    3,\n",
    "    3.6,\n",
    "    4.2,\n",
    "    4.8,\n",
    "    5.4,\n",
    "    6.0,\n",
    "    6.6,\n",
    "    7.2,\n",
    "    7.8,\n",
    "    8.4,\n",
    "    9.0,\n",
    "    9.6,\n",
    "    10.2,\n",
    "    10.8,\n",
    "    11.4,\n",
    "    12.0\n",
    "] .* 0.0254\n",
    "\n",
    "cs, βs = let dat = [\n",
    "    1.6 0.0;\n",
    "    1.6624 32.1808;\n",
    "    1.7297 30.4113;\n",
    "    1.7859 28.6672;\n",
    "    1.8310 26.9486;\n",
    "    1.8650 25.2554;\n",
    "    1.8880 23.5876;\n",
    "    1.8998 21.9454;\n",
    "    1.9005 20.3285;\n",
    "    1.8902 18.7372;\n",
    "    1.8687 17.1713;\n",
    "    1.8362 15.6308;\n",
    "    1.7926 14.1158;\n",
    "    1.7378 12.6263;\n",
    "    1.6720 11.1622;\n",
    "    1.5951 9.7235;\n",
    "    1.5071 8.3103;\n",
    "    1.4080 6.9226;\n",
    "    1.2978 5.5603;\n",
    "    1.1765 4.2235;\n",
    "    1.0 0.0\n",
    "]\n",
    "    (dat[:, 1] .* 0.0254, deg2rad.(dat[:, 2]))\n",
    "end\n",
    "\n",
    "# Airfoil properties: NACA-2412\n",
    "\n",
    "CL0 = 0.35\n",
    "Cm0 = 0.06\n",
    "\n",
    "CLα = 5.32\n",
    "\n",
    "CLmax = 1.5\n",
    "\n",
    "polar = [\n",
    "    0.008,\n",
    "    -0.005,\n",
    "    0.011\n",
    "]\n",
    "\n",
    "Ω = 3700.0 * 2 * π / 60.0\n",
    "V∞ = 0.0"
   ]
  },
  {
   "cell_type": "code",
   "execution_count": 47,
   "metadata": {},
   "outputs": [
    {
     "data": {
      "text/plain": [
       "(44.77242892250219, 1.1318376303363233)"
      ]
     },
     "metadata": {},
     "output_type": "display_data"
    }
   ],
   "source": [
    "res = PropBiology.simulation(\n",
    "    Rs, cs, Ω; γ = βs, V∞ = V∞, polar = polar, CLα = CLα, CL0 = CL0, Cm0 = Cm0, Cmα = 0.0, ρ = 1.1\n",
    ")\n",
    "\n",
    "res.T, res.Q"
   ]
  },
  {
   "cell_type": "code",
   "execution_count": 48,
   "metadata": {},
   "outputs": [
    {
     "data": {
      "text/plain": [
       "(20.149379112286084, 438.5453100909324, 21.764705882352942)"
      ]
     },
     "metadata": {},
     "output_type": "display_data"
    }
   ],
   "source": [
    "# https://www.scorpionsystem.com/catalog/aeroplane/motors_1/sii-55/SII-5525-195KV/\n",
    "\n",
    "Kv = 170.0 * 2 * π / 60.0\n",
    "Kt = 1.0 / Kv\n",
    "\n",
    "I = res.Q / Kt\n",
    "P = res.Q * Ω\n",
    "V = Ω / Kv\n",
    "\n",
    "I, P, V"
   ]
  }
 ],
 "metadata": {
  "kernelspec": {
   "display_name": "Julia 1.7.1",
   "language": "julia",
   "name": "julia-1.7"
  },
  "language_info": {
   "file_extension": ".jl",
   "mimetype": "application/julia",
   "name": "julia",
   "version": "1.7.1"
  },
  "orig_nbformat": 4
 },
 "nbformat": 4,
 "nbformat_minor": 2
}
